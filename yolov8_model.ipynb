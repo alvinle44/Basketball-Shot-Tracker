{
 "cells": [
  {
   "cell_type": "code",
   "execution_count": null,
   "metadata": {},
   "outputs": [],
   "source": [
    "#mount the google drive first\n",
    "#https://www.youtube.com/watch?v=LNwODJXcvt4 source to train yolov8 model \n",
    "from google.colab import drive\n",
    "drive.mount('content/drive')"
   ]
  },
  {
   "cell_type": "code",
   "execution_count": null,
   "metadata": {},
   "outputs": [],
   "source": [
    "!pip install -q ultralytics roboflow"
   ]
  },
  {
   "cell_type": "code",
   "execution_count": null,
   "metadata": {},
   "outputs": [],
   "source": [
    "#set the roboflow api key\n",
    "import os \n",
    "ROBOFLOW_API_KEY = \"ENTER_YOUR_OWN_API_KEY\"\n",
    "os.environ[\"ROBOFLOW_API_KEY\"] = ROBOFLOW_API_KEY"
   ]
  },
  {
   "cell_type": "code",
   "execution_count": null,
   "metadata": {},
   "outputs": [],
   "source": [
    "from roboflow import Roboflow\n",
    "rf = Roboflow(api_key=os.environ[\"ROBOFLOW_API_KEY\"])\n",
    "\n",
    "#dataset user and dataset name workspace\n",
    "#https://universe.roboflow.com/cvsense/basketball_detection-lbacg/dataset/3 dataset I used with 4546 images alot \n",
    "\n",
    "#bigger dataset\n",
    "proj = rf.workspace(\"cvsense\").project(\"basketball_detection-lbacg\")\n",
    "dataset = proj.version(3).download(\"yolov8\")\n",
    "\n",
    "#https://universe.roboflow.com/034-ganesh-kumar-m-v-cs-r2lwe/basketball-lhqoe/browse?queryText=&pageSize=50&startingIndex=0&browseQuery=true smaller datset for first try\n",
    "#smaller datset\n",
    "# proj = rf.workspace(\"034-ganesh-kumar-m-v-cs-r2lwe\").project(\"basketball-lhqoe\")\n",
    "# dataset = proj.version(1).download(\"yolov8\")\n",
    "\n",
    "\n"
   ]
  },
  {
   "cell_type": "code",
   "execution_count": null,
   "metadata": {},
   "outputs": [],
   "source": [
    "#then after download dataset, update the train test and validation set in the yaml config file \n",
    "#then after download dataset, update the train test and validation set in the yaml config file\n",
    "#copy the dataset into google drive so dont need to use apikey each time \n",
    "!mkdir -p /content/drive/MyDrive/shot_tracker_model/datasets\n",
    "!cp -r {dataset.location} /content/drive/MyDrive/shot_tracker_model/datasets/\n",
    "\n",
    "#reload each time the data dir uncommment when you have downloaded and saved the datasetonce already\n",
    "# !cp -r /content/drive/MyDrive/shot_tracker_model/datasets/basketball-1 /content/\n",
    "# DATA_DIR = \"/content/basketball-1\"  # then train using DATA_DIR/data.yaml"
   ]
  },
  {
   "cell_type": "code",
   "execution_count": null,
   "metadata": {},
   "outputs": [],
   "source": [
    "#then after download dataset, update the train test and validation set in the yaml config file\n",
    "#copy the dataset into google drive so dont need to use apikey each time \n",
    "# !mkdir -p /content/drive/MyDrive/shot_tracker_model/datasets\n",
    "!cp -r {dataset.location} /content/drive/MyDrive/shot_tracker_model/datasets/\n",
    "\n",
    "#reload each time the data dir\n",
    "\n",
    "#reload bigger dataset\n",
    "# !cp -r /content/drive/MyDrive/shot_tracker_model/datasets/Basketball_Detection_3/content/\n",
    "# DATA_DIR = \"/content/Basketball_Detection_3\"  # then train using DATA_DIR/data.yaml\n",
    "\n",
    "\n",
    "#reload smaller dataset \n",
    "# !cp -r /content/drive/MyDrive/shot_tracker_model/datasets/basketball-1 /content/\n",
    "# DATA_DIR = \"/content/basketball-1\"  # then train using DATA_DIR/data.yaml"
   ]
  },
  {
   "cell_type": "code",
   "execution_count": null,
   "metadata": {},
   "outputs": [],
   "source": []
  },
  {
   "cell_type": "code",
   "execution_count": null,
   "metadata": {},
   "outputs": [],
   "source": [
    "#train the yolov9 model with our own dataset with the dataset loaded in \n",
    "!yolo task=detect mode=train model=yolov8m.pt data={dataset.location}/data.yaml epochs=20 imgsz=640"
   ]
  },
  {
   "cell_type": "code",
   "execution_count": null,
   "metadata": {},
   "outputs": [],
   "source": [
    "#confusion matrix from training\n",
    "from IPython.display import Image, display\n",
    "Image(filename=f'/content/runs/detect/train/confusion_matrix.png', width=600)"
   ]
  },
  {
   "cell_type": "code",
   "execution_count": null,
   "metadata": {},
   "outputs": [],
   "source": [
    "#training results graphs \n",
    "Image(filename=f'/content/runs/detect/train/results.png', width=600)"
   ]
  },
  {
   "cell_type": "code",
   "execution_count": null,
   "metadata": {},
   "outputs": [],
   "source": [
    "#choose the best model that we have during training and specify the data location of our validation set and run over the validation set \n",
    "!yolo task=detect mode=val model=/content/runs/detect/weights/best.pt data={dataset.location}/data.yaml"
   ]
  },
  {
   "cell_type": "code",
   "execution_count": null,
   "metadata": {},
   "outputs": [],
   "source": [
    "#validation results graphs \n",
    "Image(filename=f'/content/runs/detect/val/confusion_matrix.png', width=600)"
   ]
  },
  {
   "cell_type": "code",
   "execution_count": null,
   "metadata": {},
   "outputs": [],
   "source": [
    "#now perform prediction on the trained model on the test set\n",
    "!yolo task=detect mode=predict model=/content/runs/detect/train/weights/best.pt conf=0.5 source={dataset.location}/test/images"
   ]
  },
  {
   "cell_type": "code",
   "execution_count": null,
   "metadata": {},
   "outputs": [],
   "source": [
    "#confusion matrix from testing set\n",
    "Image(filename=f'/content/runs/detect/test/confusion_matrix.png', width=600)"
   ]
  },
  {
   "cell_type": "code",
   "execution_count": null,
   "metadata": {},
   "outputs": [],
   "source": [
    "import glob\n",
    "i =0\n",
    "for image_path in glob.glob(f'/content/runs/detect/predict/*.jpg'):\n",
    "    if i == 10:\n",
    "        break\n",
    "    display(Image(filename=image_path, height=600))\n",
    "    print(\"/n\")\n",
    "    i+=1"
   ]
  }
 ],
 "metadata": {
  "language_info": {
   "name": "python"
  },
  "orig_nbformat": 4
 },
 "nbformat": 4,
 "nbformat_minor": 2
}
